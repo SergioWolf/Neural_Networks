{
 "cells": [
  {
   "cell_type": "markdown",
   "metadata": {},
   "source": [
    "### TensorFlow"
   ]
  },
  {
   "cell_type": "markdown",
   "metadata": {},
   "source": [
    "#####   1. Постройте нейронную сеть (берем несложную полносвязную сеть, меняем число слоев, число нейронов, типы активации, тип оптимизатора) на датасете from sklearn.datasets import load_boston. \n",
    "#####  2. Измените функцию потерь и метрику для этой задачи. Постройте 10-15 вариантов и сведите результаты их работы в таблицу.  Опишите, какого результата вы добились от нейросети? Что помогло вам улучшить ее точность?"
   ]
  },
  {
   "cell_type": "code",
   "execution_count": 2,
   "metadata": {},
   "outputs": [
    {
     "name": "stdout",
     "output_type": "stream",
     "text": [
      "2.4.1\n"
     ]
    }
   ],
   "source": [
    "import tensorflow as tf\n",
    "import numpy as np\n",
    "import pandas as pd\n",
    "\n",
    "print(tf.__version__)"
   ]
  },
  {
   "cell_type": "code",
   "execution_count": 3,
   "metadata": {},
   "outputs": [
    {
     "data": {
      "text/plain": [
       "(506, 13)"
      ]
     },
     "execution_count": 3,
     "metadata": {},
     "output_type": "execute_result"
    }
   ],
   "source": [
    "from sklearn.datasets import load_boston\n",
    "\n",
    "boston = load_boston()\n",
    "boston['data'].shape"
   ]
  },
  {
   "cell_type": "code",
   "execution_count": 4,
   "metadata": {},
   "outputs": [
    {
     "data": {
      "text/plain": [
       "(506,)"
      ]
     },
     "execution_count": 4,
     "metadata": {},
     "output_type": "execute_result"
    }
   ],
   "source": [
    "bos = pd.DataFrame(boston['data'],columns = boston['feature_names'])\n",
    "boston['target'].shape"
   ]
  },
  {
   "cell_type": "code",
   "execution_count": 5,
   "metadata": {},
   "outputs": [
    {
     "name": "stdout",
     "output_type": "stream",
     "text": [
      "<class 'pandas.core.frame.DataFrame'>\n",
      "RangeIndex: 506 entries, 0 to 505\n",
      "Data columns (total 14 columns):\n",
      "CRIM       506 non-null float64\n",
      "ZN         506 non-null float64\n",
      "INDUS      506 non-null float64\n",
      "CHAS       506 non-null float64\n",
      "NOX        506 non-null float64\n",
      "RM         506 non-null float64\n",
      "AGE        506 non-null float64\n",
      "DIS        506 non-null float64\n",
      "RAD        506 non-null float64\n",
      "TAX        506 non-null float64\n",
      "PTRATIO    506 non-null float64\n",
      "B          506 non-null float64\n",
      "LSTAT      506 non-null float64\n",
      "PRICE      506 non-null float64\n",
      "dtypes: float64(14)\n",
      "memory usage: 55.5 KB\n"
     ]
    }
   ],
   "source": [
    "bos['PRICE'] = boston['target']\n",
    "bos.info()"
   ]
  },
  {
   "cell_type": "code",
   "execution_count": 6,
   "metadata": {},
   "outputs": [
    {
     "data": {
      "text/html": [
       "<div>\n",
       "<style scoped>\n",
       "    .dataframe tbody tr th:only-of-type {\n",
       "        vertical-align: middle;\n",
       "    }\n",
       "\n",
       "    .dataframe tbody tr th {\n",
       "        vertical-align: top;\n",
       "    }\n",
       "\n",
       "    .dataframe thead th {\n",
       "        text-align: right;\n",
       "    }\n",
       "</style>\n",
       "<table border=\"1\" class=\"dataframe\">\n",
       "  <thead>\n",
       "    <tr style=\"text-align: right;\">\n",
       "      <th></th>\n",
       "      <th>CRIM</th>\n",
       "      <th>ZN</th>\n",
       "      <th>INDUS</th>\n",
       "      <th>CHAS</th>\n",
       "      <th>NOX</th>\n",
       "      <th>RM</th>\n",
       "      <th>AGE</th>\n",
       "      <th>DIS</th>\n",
       "      <th>RAD</th>\n",
       "      <th>TAX</th>\n",
       "      <th>PTRATIO</th>\n",
       "      <th>B</th>\n",
       "      <th>LSTAT</th>\n",
       "      <th>PRICE</th>\n",
       "    </tr>\n",
       "  </thead>\n",
       "  <tbody>\n",
       "    <tr>\n",
       "      <td>count</td>\n",
       "      <td>506.000000</td>\n",
       "      <td>506.000000</td>\n",
       "      <td>506.000000</td>\n",
       "      <td>506.000000</td>\n",
       "      <td>506.000000</td>\n",
       "      <td>506.000000</td>\n",
       "      <td>506.000000</td>\n",
       "      <td>506.000000</td>\n",
       "      <td>506.000000</td>\n",
       "      <td>506.000000</td>\n",
       "      <td>506.000000</td>\n",
       "      <td>506.000000</td>\n",
       "      <td>506.000000</td>\n",
       "      <td>506.000000</td>\n",
       "    </tr>\n",
       "    <tr>\n",
       "      <td>mean</td>\n",
       "      <td>3.613524</td>\n",
       "      <td>11.363636</td>\n",
       "      <td>11.136779</td>\n",
       "      <td>0.069170</td>\n",
       "      <td>0.554695</td>\n",
       "      <td>6.284634</td>\n",
       "      <td>68.574901</td>\n",
       "      <td>3.795043</td>\n",
       "      <td>9.549407</td>\n",
       "      <td>408.237154</td>\n",
       "      <td>18.455534</td>\n",
       "      <td>356.674032</td>\n",
       "      <td>12.653063</td>\n",
       "      <td>22.532806</td>\n",
       "    </tr>\n",
       "    <tr>\n",
       "      <td>std</td>\n",
       "      <td>8.601545</td>\n",
       "      <td>23.322453</td>\n",
       "      <td>6.860353</td>\n",
       "      <td>0.253994</td>\n",
       "      <td>0.115878</td>\n",
       "      <td>0.702617</td>\n",
       "      <td>28.148861</td>\n",
       "      <td>2.105710</td>\n",
       "      <td>8.707259</td>\n",
       "      <td>168.537116</td>\n",
       "      <td>2.164946</td>\n",
       "      <td>91.294864</td>\n",
       "      <td>7.141062</td>\n",
       "      <td>9.197104</td>\n",
       "    </tr>\n",
       "    <tr>\n",
       "      <td>min</td>\n",
       "      <td>0.006320</td>\n",
       "      <td>0.000000</td>\n",
       "      <td>0.460000</td>\n",
       "      <td>0.000000</td>\n",
       "      <td>0.385000</td>\n",
       "      <td>3.561000</td>\n",
       "      <td>2.900000</td>\n",
       "      <td>1.129600</td>\n",
       "      <td>1.000000</td>\n",
       "      <td>187.000000</td>\n",
       "      <td>12.600000</td>\n",
       "      <td>0.320000</td>\n",
       "      <td>1.730000</td>\n",
       "      <td>5.000000</td>\n",
       "    </tr>\n",
       "    <tr>\n",
       "      <td>25%</td>\n",
       "      <td>0.082045</td>\n",
       "      <td>0.000000</td>\n",
       "      <td>5.190000</td>\n",
       "      <td>0.000000</td>\n",
       "      <td>0.449000</td>\n",
       "      <td>5.885500</td>\n",
       "      <td>45.025000</td>\n",
       "      <td>2.100175</td>\n",
       "      <td>4.000000</td>\n",
       "      <td>279.000000</td>\n",
       "      <td>17.400000</td>\n",
       "      <td>375.377500</td>\n",
       "      <td>6.950000</td>\n",
       "      <td>17.025000</td>\n",
       "    </tr>\n",
       "    <tr>\n",
       "      <td>50%</td>\n",
       "      <td>0.256510</td>\n",
       "      <td>0.000000</td>\n",
       "      <td>9.690000</td>\n",
       "      <td>0.000000</td>\n",
       "      <td>0.538000</td>\n",
       "      <td>6.208500</td>\n",
       "      <td>77.500000</td>\n",
       "      <td>3.207450</td>\n",
       "      <td>5.000000</td>\n",
       "      <td>330.000000</td>\n",
       "      <td>19.050000</td>\n",
       "      <td>391.440000</td>\n",
       "      <td>11.360000</td>\n",
       "      <td>21.200000</td>\n",
       "    </tr>\n",
       "    <tr>\n",
       "      <td>75%</td>\n",
       "      <td>3.677083</td>\n",
       "      <td>12.500000</td>\n",
       "      <td>18.100000</td>\n",
       "      <td>0.000000</td>\n",
       "      <td>0.624000</td>\n",
       "      <td>6.623500</td>\n",
       "      <td>94.075000</td>\n",
       "      <td>5.188425</td>\n",
       "      <td>24.000000</td>\n",
       "      <td>666.000000</td>\n",
       "      <td>20.200000</td>\n",
       "      <td>396.225000</td>\n",
       "      <td>16.955000</td>\n",
       "      <td>25.000000</td>\n",
       "    </tr>\n",
       "    <tr>\n",
       "      <td>max</td>\n",
       "      <td>88.976200</td>\n",
       "      <td>100.000000</td>\n",
       "      <td>27.740000</td>\n",
       "      <td>1.000000</td>\n",
       "      <td>0.871000</td>\n",
       "      <td>8.780000</td>\n",
       "      <td>100.000000</td>\n",
       "      <td>12.126500</td>\n",
       "      <td>24.000000</td>\n",
       "      <td>711.000000</td>\n",
       "      <td>22.000000</td>\n",
       "      <td>396.900000</td>\n",
       "      <td>37.970000</td>\n",
       "      <td>50.000000</td>\n",
       "    </tr>\n",
       "  </tbody>\n",
       "</table>\n",
       "</div>"
      ],
      "text/plain": [
       "             CRIM          ZN       INDUS        CHAS         NOX          RM  \\\n",
       "count  506.000000  506.000000  506.000000  506.000000  506.000000  506.000000   \n",
       "mean     3.613524   11.363636   11.136779    0.069170    0.554695    6.284634   \n",
       "std      8.601545   23.322453    6.860353    0.253994    0.115878    0.702617   \n",
       "min      0.006320    0.000000    0.460000    0.000000    0.385000    3.561000   \n",
       "25%      0.082045    0.000000    5.190000    0.000000    0.449000    5.885500   \n",
       "50%      0.256510    0.000000    9.690000    0.000000    0.538000    6.208500   \n",
       "75%      3.677083   12.500000   18.100000    0.000000    0.624000    6.623500   \n",
       "max     88.976200  100.000000   27.740000    1.000000    0.871000    8.780000   \n",
       "\n",
       "              AGE         DIS         RAD         TAX     PTRATIO           B  \\\n",
       "count  506.000000  506.000000  506.000000  506.000000  506.000000  506.000000   \n",
       "mean    68.574901    3.795043    9.549407  408.237154   18.455534  356.674032   \n",
       "std     28.148861    2.105710    8.707259  168.537116    2.164946   91.294864   \n",
       "min      2.900000    1.129600    1.000000  187.000000   12.600000    0.320000   \n",
       "25%     45.025000    2.100175    4.000000  279.000000   17.400000  375.377500   \n",
       "50%     77.500000    3.207450    5.000000  330.000000   19.050000  391.440000   \n",
       "75%     94.075000    5.188425   24.000000  666.000000   20.200000  396.225000   \n",
       "max    100.000000   12.126500   24.000000  711.000000   22.000000  396.900000   \n",
       "\n",
       "            LSTAT       PRICE  \n",
       "count  506.000000  506.000000  \n",
       "mean    12.653063   22.532806  \n",
       "std      7.141062    9.197104  \n",
       "min      1.730000    5.000000  \n",
       "25%      6.950000   17.025000  \n",
       "50%     11.360000   21.200000  \n",
       "75%     16.955000   25.000000  \n",
       "max     37.970000   50.000000  "
      ]
     },
     "execution_count": 6,
     "metadata": {},
     "output_type": "execute_result"
    }
   ],
   "source": [
    "bos.describe()"
   ]
  },
  {
   "cell_type": "code",
   "execution_count": 7,
   "metadata": {},
   "outputs": [],
   "source": [
    "from sklearn.model_selection import train_test_split\n",
    "\n",
    "X = bos.drop(['PRICE'],axis=1)\n",
    "y = bos['PRICE']"
   ]
  },
  {
   "cell_type": "code",
   "execution_count": 8,
   "metadata": {},
   "outputs": [
    {
     "data": {
      "text/html": [
       "<div>\n",
       "<style scoped>\n",
       "    .dataframe tbody tr th:only-of-type {\n",
       "        vertical-align: middle;\n",
       "    }\n",
       "\n",
       "    .dataframe tbody tr th {\n",
       "        vertical-align: top;\n",
       "    }\n",
       "\n",
       "    .dataframe thead th {\n",
       "        text-align: right;\n",
       "    }\n",
       "</style>\n",
       "<table border=\"1\" class=\"dataframe\">\n",
       "  <thead>\n",
       "    <tr style=\"text-align: right;\">\n",
       "      <th></th>\n",
       "      <th>CRIM</th>\n",
       "      <th>ZN</th>\n",
       "      <th>INDUS</th>\n",
       "      <th>CHAS</th>\n",
       "      <th>NOX</th>\n",
       "      <th>RM</th>\n",
       "      <th>AGE</th>\n",
       "      <th>DIS</th>\n",
       "      <th>RAD</th>\n",
       "      <th>TAX</th>\n",
       "      <th>PTRATIO</th>\n",
       "      <th>B</th>\n",
       "      <th>LSTAT</th>\n",
       "    </tr>\n",
       "  </thead>\n",
       "  <tbody>\n",
       "    <tr>\n",
       "      <td>count</td>\n",
       "      <td>506.000000</td>\n",
       "      <td>506.000000</td>\n",
       "      <td>506.000000</td>\n",
       "      <td>506.000000</td>\n",
       "      <td>506.000000</td>\n",
       "      <td>506.000000</td>\n",
       "      <td>506.000000</td>\n",
       "      <td>506.000000</td>\n",
       "      <td>506.000000</td>\n",
       "      <td>506.000000</td>\n",
       "      <td>506.000000</td>\n",
       "      <td>506.000000</td>\n",
       "      <td>506.000000</td>\n",
       "    </tr>\n",
       "    <tr>\n",
       "      <td>mean</td>\n",
       "      <td>3.613524</td>\n",
       "      <td>11.363636</td>\n",
       "      <td>11.136779</td>\n",
       "      <td>0.069170</td>\n",
       "      <td>0.554695</td>\n",
       "      <td>6.284634</td>\n",
       "      <td>68.574901</td>\n",
       "      <td>3.795043</td>\n",
       "      <td>9.549407</td>\n",
       "      <td>408.237154</td>\n",
       "      <td>18.455534</td>\n",
       "      <td>356.674032</td>\n",
       "      <td>12.653063</td>\n",
       "    </tr>\n",
       "    <tr>\n",
       "      <td>std</td>\n",
       "      <td>8.601545</td>\n",
       "      <td>23.322453</td>\n",
       "      <td>6.860353</td>\n",
       "      <td>0.253994</td>\n",
       "      <td>0.115878</td>\n",
       "      <td>0.702617</td>\n",
       "      <td>28.148861</td>\n",
       "      <td>2.105710</td>\n",
       "      <td>8.707259</td>\n",
       "      <td>168.537116</td>\n",
       "      <td>2.164946</td>\n",
       "      <td>91.294864</td>\n",
       "      <td>7.141062</td>\n",
       "    </tr>\n",
       "    <tr>\n",
       "      <td>min</td>\n",
       "      <td>0.006320</td>\n",
       "      <td>0.000000</td>\n",
       "      <td>0.460000</td>\n",
       "      <td>0.000000</td>\n",
       "      <td>0.385000</td>\n",
       "      <td>3.561000</td>\n",
       "      <td>2.900000</td>\n",
       "      <td>1.129600</td>\n",
       "      <td>1.000000</td>\n",
       "      <td>187.000000</td>\n",
       "      <td>12.600000</td>\n",
       "      <td>0.320000</td>\n",
       "      <td>1.730000</td>\n",
       "    </tr>\n",
       "    <tr>\n",
       "      <td>25%</td>\n",
       "      <td>0.082045</td>\n",
       "      <td>0.000000</td>\n",
       "      <td>5.190000</td>\n",
       "      <td>0.000000</td>\n",
       "      <td>0.449000</td>\n",
       "      <td>5.885500</td>\n",
       "      <td>45.025000</td>\n",
       "      <td>2.100175</td>\n",
       "      <td>4.000000</td>\n",
       "      <td>279.000000</td>\n",
       "      <td>17.400000</td>\n",
       "      <td>375.377500</td>\n",
       "      <td>6.950000</td>\n",
       "    </tr>\n",
       "    <tr>\n",
       "      <td>50%</td>\n",
       "      <td>0.256510</td>\n",
       "      <td>0.000000</td>\n",
       "      <td>9.690000</td>\n",
       "      <td>0.000000</td>\n",
       "      <td>0.538000</td>\n",
       "      <td>6.208500</td>\n",
       "      <td>77.500000</td>\n",
       "      <td>3.207450</td>\n",
       "      <td>5.000000</td>\n",
       "      <td>330.000000</td>\n",
       "      <td>19.050000</td>\n",
       "      <td>391.440000</td>\n",
       "      <td>11.360000</td>\n",
       "    </tr>\n",
       "    <tr>\n",
       "      <td>75%</td>\n",
       "      <td>3.677083</td>\n",
       "      <td>12.500000</td>\n",
       "      <td>18.100000</td>\n",
       "      <td>0.000000</td>\n",
       "      <td>0.624000</td>\n",
       "      <td>6.623500</td>\n",
       "      <td>94.075000</td>\n",
       "      <td>5.188425</td>\n",
       "      <td>24.000000</td>\n",
       "      <td>666.000000</td>\n",
       "      <td>20.200000</td>\n",
       "      <td>396.225000</td>\n",
       "      <td>16.955000</td>\n",
       "    </tr>\n",
       "    <tr>\n",
       "      <td>max</td>\n",
       "      <td>88.976200</td>\n",
       "      <td>100.000000</td>\n",
       "      <td>27.740000</td>\n",
       "      <td>1.000000</td>\n",
       "      <td>0.871000</td>\n",
       "      <td>8.780000</td>\n",
       "      <td>100.000000</td>\n",
       "      <td>12.126500</td>\n",
       "      <td>24.000000</td>\n",
       "      <td>711.000000</td>\n",
       "      <td>22.000000</td>\n",
       "      <td>396.900000</td>\n",
       "      <td>37.970000</td>\n",
       "    </tr>\n",
       "  </tbody>\n",
       "</table>\n",
       "</div>"
      ],
      "text/plain": [
       "             CRIM          ZN       INDUS        CHAS         NOX          RM  \\\n",
       "count  506.000000  506.000000  506.000000  506.000000  506.000000  506.000000   \n",
       "mean     3.613524   11.363636   11.136779    0.069170    0.554695    6.284634   \n",
       "std      8.601545   23.322453    6.860353    0.253994    0.115878    0.702617   \n",
       "min      0.006320    0.000000    0.460000    0.000000    0.385000    3.561000   \n",
       "25%      0.082045    0.000000    5.190000    0.000000    0.449000    5.885500   \n",
       "50%      0.256510    0.000000    9.690000    0.000000    0.538000    6.208500   \n",
       "75%      3.677083   12.500000   18.100000    0.000000    0.624000    6.623500   \n",
       "max     88.976200  100.000000   27.740000    1.000000    0.871000    8.780000   \n",
       "\n",
       "              AGE         DIS         RAD         TAX     PTRATIO           B  \\\n",
       "count  506.000000  506.000000  506.000000  506.000000  506.000000  506.000000   \n",
       "mean    68.574901    3.795043    9.549407  408.237154   18.455534  356.674032   \n",
       "std     28.148861    2.105710    8.707259  168.537116    2.164946   91.294864   \n",
       "min      2.900000    1.129600    1.000000  187.000000   12.600000    0.320000   \n",
       "25%     45.025000    2.100175    4.000000  279.000000   17.400000  375.377500   \n",
       "50%     77.500000    3.207450    5.000000  330.000000   19.050000  391.440000   \n",
       "75%     94.075000    5.188425   24.000000  666.000000   20.200000  396.225000   \n",
       "max    100.000000   12.126500   24.000000  711.000000   22.000000  396.900000   \n",
       "\n",
       "            LSTAT  \n",
       "count  506.000000  \n",
       "mean    12.653063  \n",
       "std      7.141062  \n",
       "min      1.730000  \n",
       "25%      6.950000  \n",
       "50%     11.360000  \n",
       "75%     16.955000  \n",
       "max     37.970000  "
      ]
     },
     "execution_count": 8,
     "metadata": {},
     "output_type": "execute_result"
    }
   ],
   "source": [
    "X.describe()"
   ]
  },
  {
   "cell_type": "code",
   "execution_count": 9,
   "metadata": {},
   "outputs": [
    {
     "data": {
      "text/plain": [
       "count    506.000000\n",
       "mean      22.532806\n",
       "std        9.197104\n",
       "min        5.000000\n",
       "25%       17.025000\n",
       "50%       21.200000\n",
       "75%       25.000000\n",
       "max       50.000000\n",
       "Name: PRICE, dtype: float64"
      ]
     },
     "execution_count": 9,
     "metadata": {},
     "output_type": "execute_result"
    }
   ],
   "source": [
    "y.describe()"
   ]
  },
  {
   "cell_type": "code",
   "execution_count": 10,
   "metadata": {},
   "outputs": [],
   "source": [
    "X_train, X_test, y_train, y_test = train_test_split(X, y, test_size=0.2)"
   ]
  },
  {
   "cell_type": "code",
   "execution_count": 11,
   "metadata": {},
   "outputs": [],
   "source": [
    "from tensorflow.keras.layers import Input, Flatten, Dense\n",
    "from tensorflow.keras.models import Model"
   ]
  },
  {
   "cell_type": "code",
   "execution_count": 12,
   "metadata": {},
   "outputs": [
    {
     "name": "stdout",
     "output_type": "stream",
     "text": [
      "Model: \"sequential\"\n",
      "_________________________________________________________________\n",
      "Layer (type)                 Output Shape              Param #   \n",
      "=================================================================\n",
      "dense (Dense)                (None, 64)                896       \n",
      "_________________________________________________________________\n",
      "dense_1 (Dense)              (None, 32)                2080      \n",
      "_________________________________________________________________\n",
      "dense_2 (Dense)              (None, 1)                 33        \n",
      "=================================================================\n",
      "Total params: 3,009\n",
      "Trainable params: 3,009\n",
      "Non-trainable params: 0\n",
      "_________________________________________________________________\n"
     ]
    }
   ],
   "source": [
    "model = tf.keras.Sequential([\n",
    "    Dense(64, activation='relu', input_shape=(13,)),\n",
    "    Dense(32, activation='relu'),\n",
    "    Dense(1)\n",
    "])\n",
    "\n",
    "model.summary()"
   ]
  },
  {
   "cell_type": "code",
   "execution_count": 13,
   "metadata": {},
   "outputs": [],
   "source": [
    "from tensorflow.keras.losses import MeanSquaredLogarithmicError\n",
    "\n",
    "model.compile(optimizer=tf.keras.optimizers.Adam(0.001),\n",
    "              loss= MeanSquaredLogarithmicError(),\n",
    "              metrics=['mse'])"
   ]
  },
  {
   "cell_type": "code",
   "execution_count": 25,
   "metadata": {},
   "outputs": [
    {
     "name": "stdout",
     "output_type": "stream",
     "text": [
      "Epoch 1/10\n",
      "27/27 [==============================] - 0s 6ms/step - loss: 0.0573 - mse: 37.1717 - val_loss: 0.0685 - val_mse: 45.0382\n",
      "Epoch 2/10\n",
      "27/27 [==============================] - 0s 3ms/step - loss: 0.0611 - mse: 39.9573 - val_loss: 0.0645 - val_mse: 42.4162\n",
      "Epoch 3/10\n",
      "27/27 [==============================] - 0s 3ms/step - loss: 0.0558 - mse: 36.2319 - val_loss: 0.0610 - val_mse: 44.7269\n",
      "Epoch 4/10\n",
      "27/27 [==============================] - 0s 3ms/step - loss: 0.0527 - mse: 35.7189 - val_loss: 0.0597 - val_mse: 42.5041\n",
      "Epoch 5/10\n",
      "27/27 [==============================] - 0s 3ms/step - loss: 0.0503 - mse: 34.7903 - val_loss: 0.0587 - val_mse: 42.5446\n",
      "Epoch 6/10\n",
      "27/27 [==============================] - 0s 3ms/step - loss: 0.0689 - mse: 39.1622 - val_loss: 0.0647 - val_mse: 47.0444\n",
      "Epoch 7/10\n",
      "27/27 [==============================] - 0s 3ms/step - loss: 0.0553 - mse: 36.4414 - val_loss: 0.0647 - val_mse: 41.8788\n",
      "Epoch 8/10\n",
      "27/27 [==============================] - 0s 3ms/step - loss: 0.0645 - mse: 39.0433 - val_loss: 0.0688 - val_mse: 42.6993\n",
      "Epoch 9/10\n",
      "27/27 [==============================] - 0s 3ms/step - loss: 0.0549 - mse: 36.8219 - val_loss: 0.0590 - val_mse: 41.9244\n",
      "Epoch 10/10\n",
      "27/27 [==============================] - 0s 3ms/step - loss: 0.0521 - mse: 34.9599 - val_loss: 0.0600 - val_mse: 42.7548\n"
     ]
    },
    {
     "data": {
      "text/plain": [
       "<tensorflow.python.keras.callbacks.History at 0x157bbe16fc8>"
      ]
     },
     "execution_count": 25,
     "metadata": {},
     "output_type": "execute_result"
    }
   ],
   "source": [
    "model.fit(X_train, y_train,\n",
    "          epochs=10,\n",
    "          batch_size=15,\n",
    "          validation_data=(X_test, y_test))"
   ]
  },
  {
   "cell_type": "code",
   "execution_count": 26,
   "metadata": {},
   "outputs": [
    {
     "name": "stdout",
     "output_type": "stream",
     "text": [
      "4/4 - 0s - loss: 0.0600 - mse: 42.7548\n",
      "\n",
      "Test accuracy: 42.754825592041016\n"
     ]
    }
   ],
   "source": [
    "test_loss, test_mse = model.evaluate(X_test, y_test, verbose=2)\n",
    "\n",
    "print('\\nTest accuracy:', test_mse)"
   ]
  },
  {
   "cell_type": "code",
   "execution_count": 30,
   "metadata": {},
   "outputs": [],
   "source": [
    "model.compile(optimizer=tf.keras.optimizers.SGD(),\n",
    "              loss= MeanSquaredLogarithmicError(),\n",
    "              metrics=['mse'])"
   ]
  },
  {
   "cell_type": "code",
   "execution_count": 31,
   "metadata": {},
   "outputs": [
    {
     "name": "stdout",
     "output_type": "stream",
     "text": [
      "Epoch 1/10\n",
      "27/27 [==============================] - 1s 10ms/step - loss: 1.7004 - mse: 4784.6079 - val_loss: 0.0888 - val_mse: 57.1678\n",
      "Epoch 2/10\n",
      "27/27 [==============================] - 0s 3ms/step - loss: 0.1406 - mse: 88.8254 - val_loss: 0.0968 - val_mse: 58.3974\n",
      "Epoch 3/10\n",
      "27/27 [==============================] - 0s 3ms/step - loss: 0.0871 - mse: 50.8526 - val_loss: 0.1031 - val_mse: 65.5447\n",
      "Epoch 4/10\n",
      "27/27 [==============================] - 0s 6ms/step - loss: 0.0946 - mse: 55.1528 - val_loss: 0.0921 - val_mse: 55.7639\n",
      "Epoch 5/10\n",
      "27/27 [==============================] - 0s 3ms/step - loss: 0.0947 - mse: 56.7581 - val_loss: 0.1610 - val_mse: 88.0786\n",
      "Epoch 6/10\n",
      "27/27 [==============================] - 0s 3ms/step - loss: 0.0984 - mse: 61.8931 - val_loss: 0.0844 - val_mse: 54.6400\n",
      "Epoch 7/10\n",
      "27/27 [==============================] - 0s 3ms/step - loss: 0.0994 - mse: 57.4419 - val_loss: 0.1707 - val_mse: 90.5250\n",
      "Epoch 8/10\n",
      "27/27 [==============================] - 0s 3ms/step - loss: 0.1092 - mse: 64.2903 - val_loss: 0.1861 - val_mse: 98.4322\n",
      "Epoch 9/10\n",
      "27/27 [==============================] - 0s 3ms/step - loss: 0.0820 - mse: 47.9103 - val_loss: 0.0839 - val_mse: 55.8941\n",
      "Epoch 10/10\n",
      "27/27 [==============================] - 0s 3ms/step - loss: 0.1086 - mse: 61.1127 - val_loss: 0.1052 - val_mse: 68.5563\n"
     ]
    },
    {
     "data": {
      "text/plain": [
       "<tensorflow.python.keras.callbacks.History at 0x157bbeec888>"
      ]
     },
     "execution_count": 31,
     "metadata": {},
     "output_type": "execute_result"
    }
   ],
   "source": [
    "model.fit(X_train, y_train,\n",
    "          epochs=10,\n",
    "          batch_size=15,\n",
    "          validation_data=(X_test, y_test))"
   ]
  },
  {
   "cell_type": "code",
   "execution_count": 32,
   "metadata": {},
   "outputs": [
    {
     "name": "stdout",
     "output_type": "stream",
     "text": [
      "4/4 - 0s - loss: 0.1052 - mse: 68.5563\n",
      "\n",
      "Test accuracy: 68.5562973022461\n"
     ]
    }
   ],
   "source": [
    "test_loss, test_mse = model.evaluate(X_test, y_test, verbose=2)\n",
    "\n",
    "print('\\nTest accuracy:', test_mse)"
   ]
  },
  {
   "cell_type": "code",
   "execution_count": 34,
   "metadata": {},
   "outputs": [],
   "source": [
    "model.compile(optimizer=tf.keras.optimizers.RMSprop(),\n",
    "              loss= MeanSquaredLogarithmicError(),\n",
    "              metrics=['mse'])"
   ]
  },
  {
   "cell_type": "code",
   "execution_count": 35,
   "metadata": {},
   "outputs": [
    {
     "name": "stdout",
     "output_type": "stream",
     "text": [
      "Epoch 1/10\n",
      "27/27 [==============================] - 1s 10ms/step - loss: 0.0792 - mse: 52.7335 - val_loss: 0.0973 - val_mse: 61.3671\n",
      "Epoch 2/10\n",
      "27/27 [==============================] - 0s 3ms/step - loss: 0.0736 - mse: 43.7124 - val_loss: 0.0805 - val_mse: 53.8900\n",
      "Epoch 3/10\n",
      "27/27 [==============================] - 0s 3ms/step - loss: 0.0736 - mse: 49.8134 - val_loss: 0.0835 - val_mse: 57.7156\n",
      "Epoch 4/10\n",
      "27/27 [==============================] - 0s 3ms/step - loss: 0.0849 - mse: 51.3651 - val_loss: 0.0803 - val_mse: 56.1107\n",
      "Epoch 5/10\n",
      "27/27 [==============================] - 0s 3ms/step - loss: 0.0753 - mse: 51.4394 - val_loss: 0.0759 - val_mse: 54.2025\n",
      "Epoch 6/10\n",
      "27/27 [==============================] - 0s 3ms/step - loss: 0.0774 - mse: 55.5913 - val_loss: 0.0783 - val_mse: 49.1262\n",
      "Epoch 7/10\n",
      "27/27 [==============================] - 0s 3ms/step - loss: 0.0611 - mse: 47.0341 - val_loss: 0.0687 - val_mse: 47.9839\n",
      "Epoch 8/10\n",
      "27/27 [==============================] - 0s 3ms/step - loss: 0.0564 - mse: 38.3803 - val_loss: 0.0716 - val_mse: 46.0994\n",
      "Epoch 9/10\n",
      "27/27 [==============================] - 0s 3ms/step - loss: 0.0539 - mse: 37.3286 - val_loss: 0.0672 - val_mse: 46.5313\n",
      "Epoch 10/10\n",
      "27/27 [==============================] - 0s 3ms/step - loss: 0.0622 - mse: 44.2359 - val_loss: 0.0634 - val_mse: 45.4532\n"
     ]
    },
    {
     "data": {
      "text/plain": [
       "<tensorflow.python.keras.callbacks.History at 0x157b489f9c8>"
      ]
     },
     "execution_count": 35,
     "metadata": {},
     "output_type": "execute_result"
    }
   ],
   "source": [
    "model.fit(X_train, y_train,\n",
    "          epochs=10,\n",
    "          batch_size=15,\n",
    "          validation_data=(X_test, y_test))"
   ]
  },
  {
   "cell_type": "code",
   "execution_count": 36,
   "metadata": {},
   "outputs": [
    {
     "name": "stdout",
     "output_type": "stream",
     "text": [
      "4/4 - 0s - loss: 0.0634 - mse: 45.4532\n",
      "\n",
      "Test accuracy: 45.45319747924805\n"
     ]
    }
   ],
   "source": [
    "test_loss, test_mse = model.evaluate(X_test, y_test, verbose=2)\n",
    "\n",
    "print('\\nTest accuracy:', test_mse)"
   ]
  },
  {
   "cell_type": "code",
   "execution_count": 37,
   "metadata": {},
   "outputs": [],
   "source": [
    "from tensorflow.keras.losses import MeanAbsoluteError\n",
    "\n",
    "model.compile(optimizer=tf.keras.optimizers.Adam(0.001),\n",
    "              loss= MeanAbsoluteError(),\n",
    "              metrics=['mse'])"
   ]
  },
  {
   "cell_type": "code",
   "execution_count": 38,
   "metadata": {},
   "outputs": [
    {
     "name": "stdout",
     "output_type": "stream",
     "text": [
      "Epoch 1/10\n",
      "27/27 [==============================] - 1s 9ms/step - loss: 4.0258 - mse: 36.8483 - val_loss: 5.2221 - val_mse: 49.0240\n",
      "Epoch 2/10\n",
      "27/27 [==============================] - 0s 3ms/step - loss: 4.1462 - mse: 32.4096 - val_loss: 4.2501 - val_mse: 44.7926\n",
      "Epoch 3/10\n",
      "27/27 [==============================] - 0s 7ms/step - loss: 3.9331 - mse: 36.7498 - val_loss: 4.3604 - val_mse: 44.2267\n",
      "Epoch 4/10\n",
      "27/27 [==============================] - 0s 3ms/step - loss: 3.9040 - mse: 33.8469 - val_loss: 4.2150 - val_mse: 45.1740\n",
      "Epoch 5/10\n",
      "27/27 [==============================] - 0s 3ms/step - loss: 4.4643 - mse: 47.0009 - val_loss: 4.2902 - val_mse: 45.6012\n",
      "Epoch 6/10\n",
      "27/27 [==============================] - 0s 3ms/step - loss: 4.0467 - mse: 35.6756 - val_loss: 4.1482 - val_mse: 42.9228\n",
      "Epoch 7/10\n",
      "27/27 [==============================] - 0s 3ms/step - loss: 3.8299 - mse: 34.0454 - val_loss: 4.5002 - val_mse: 51.9233\n",
      "Epoch 8/10\n",
      "27/27 [==============================] - 0s 3ms/step - loss: 3.8345 - mse: 32.0896 - val_loss: 4.1837 - val_mse: 43.6041\n",
      "Epoch 9/10\n",
      "27/27 [==============================] - 0s 3ms/step - loss: 4.1287 - mse: 44.4483 - val_loss: 4.5363 - val_mse: 40.4123\n",
      "Epoch 10/10\n",
      "27/27 [==============================] - 0s 3ms/step - loss: 4.0872 - mse: 36.9191 - val_loss: 4.0229 - val_mse: 40.7026\n"
     ]
    },
    {
     "data": {
      "text/plain": [
       "<tensorflow.python.keras.callbacks.History at 0x157be2b3f88>"
      ]
     },
     "execution_count": 38,
     "metadata": {},
     "output_type": "execute_result"
    }
   ],
   "source": [
    "model.fit(X_train, y_train,\n",
    "          epochs=10,\n",
    "          batch_size=15,\n",
    "          validation_data=(X_test, y_test))"
   ]
  },
  {
   "cell_type": "code",
   "execution_count": 39,
   "metadata": {},
   "outputs": [
    {
     "name": "stdout",
     "output_type": "stream",
     "text": [
      "4/4 - 0s - loss: 4.0230 - mse: 40.7026\n",
      "\n",
      "Test accuracy: 40.702579498291016\n"
     ]
    }
   ],
   "source": [
    "test_loss, test_mse = model.evaluate(X_test, y_test, verbose=2)\n",
    "\n",
    "print('\\nTest accuracy:', test_mse)"
   ]
  },
  {
   "cell_type": "code",
   "execution_count": 40,
   "metadata": {},
   "outputs": [],
   "source": [
    "from tensorflow.keras.losses import MeanAbsolutePercentageError\n",
    "\n",
    "model.compile(optimizer=tf.keras.optimizers.Adam(0.001),\n",
    "              loss= MeanAbsolutePercentageError(),\n",
    "              metrics=['mse'])"
   ]
  },
  {
   "cell_type": "code",
   "execution_count": 41,
   "metadata": {},
   "outputs": [
    {
     "name": "stdout",
     "output_type": "stream",
     "text": [
      "Epoch 1/10\n",
      "27/27 [==============================] - 1s 11ms/step - loss: 16.3512 - mse: 32.6806 - val_loss: 18.3953 - val_mse: 57.1618\n",
      "Epoch 2/10\n",
      "27/27 [==============================] - 0s 5ms/step - loss: 17.5076 - mse: 51.2176 - val_loss: 17.6183 - val_mse: 44.7656\n",
      "Epoch 3/10\n",
      "27/27 [==============================] - 0s 5ms/step - loss: 15.8783 - mse: 34.6307 - val_loss: 21.5146 - val_mse: 38.8755\n",
      "Epoch 4/10\n",
      "27/27 [==============================] - 0s 5ms/step - loss: 16.8287 - mse: 33.9608 - val_loss: 17.4535 - val_mse: 47.0567\n",
      "Epoch 5/10\n",
      "27/27 [==============================] - 0s 3ms/step - loss: 15.4943 - mse: 33.5120 - val_loss: 17.1050 - val_mse: 41.7833\n",
      "Epoch 6/10\n",
      "27/27 [==============================] - 0s 3ms/step - loss: 14.5640 - mse: 32.5083 - val_loss: 17.3831 - val_mse: 37.8549\n",
      "Epoch 7/10\n",
      "27/27 [==============================] - 0s 3ms/step - loss: 15.4423 - mse: 28.7915 - val_loss: 17.1855 - val_mse: 42.7804\n",
      "Epoch 8/10\n",
      "27/27 [==============================] - 0s 3ms/step - loss: 14.5743 - mse: 34.0474 - val_loss: 18.0665 - val_mse: 53.1366\n",
      "Epoch 9/10\n",
      "27/27 [==============================] - 0s 3ms/step - loss: 14.3539 - mse: 31.8193 - val_loss: 18.0685 - val_mse: 37.5321\n",
      "Epoch 10/10\n",
      "27/27 [==============================] - 0s 3ms/step - loss: 15.3680 - mse: 35.5037 - val_loss: 17.5326 - val_mse: 39.1714\n"
     ]
    },
    {
     "data": {
      "text/plain": [
       "<tensorflow.python.keras.callbacks.History at 0x157bbd9b148>"
      ]
     },
     "execution_count": 41,
     "metadata": {},
     "output_type": "execute_result"
    }
   ],
   "source": [
    "model.fit(X_train, y_train,\n",
    "          epochs=10,\n",
    "          batch_size=15,\n",
    "          validation_data=(X_test, y_test))"
   ]
  },
  {
   "cell_type": "code",
   "execution_count": 42,
   "metadata": {},
   "outputs": [
    {
     "name": "stdout",
     "output_type": "stream",
     "text": [
      "4/4 - 0s - loss: 17.5326 - mse: 39.1714\n",
      "\n",
      "Test accuracy: 39.17142105102539\n"
     ]
    }
   ],
   "source": [
    "test_loss, test_mse = model.evaluate(X_test, y_test, verbose=2)\n",
    "\n",
    "print('\\nTest accuracy:', test_mse)"
   ]
  },
  {
   "cell_type": "code",
   "execution_count": 43,
   "metadata": {},
   "outputs": [],
   "source": [
    "from tensorflow.keras.losses import MeanSquaredError\n",
    "\n",
    "model.compile(optimizer=tf.keras.optimizers.Adam(0.001),\n",
    "              loss= MeanSquaredError(),\n",
    "              metrics=['mse'])"
   ]
  },
  {
   "cell_type": "code",
   "execution_count": 44,
   "metadata": {},
   "outputs": [
    {
     "name": "stdout",
     "output_type": "stream",
     "text": [
      "Epoch 1/10\n",
      "27/27 [==============================] - 1s 10ms/step - loss: 31.1973 - mse: 31.1973 - val_loss: 37.4516 - val_mse: 37.4516\n",
      "Epoch 2/10\n",
      "27/27 [==============================] - 0s 3ms/step - loss: 31.0073 - mse: 31.0073 - val_loss: 34.0836 - val_mse: 34.0836\n",
      "Epoch 3/10\n",
      "27/27 [==============================] - 0s 3ms/step - loss: 26.1743 - mse: 26.1743 - val_loss: 33.4530 - val_mse: 33.4530\n",
      "Epoch 4/10\n",
      "27/27 [==============================] - 0s 3ms/step - loss: 24.8376 - mse: 24.8376 - val_loss: 33.4697 - val_mse: 33.4697\n",
      "Epoch 5/10\n",
      "27/27 [==============================] - 0s 3ms/step - loss: 25.2287 - mse: 25.2287 - val_loss: 36.1051 - val_mse: 36.1051\n",
      "Epoch 6/10\n",
      "27/27 [==============================] - 0s 4ms/step - loss: 28.6762 - mse: 28.6762 - val_loss: 32.2820 - val_mse: 32.2820\n",
      "Epoch 7/10\n",
      "27/27 [==============================] - 0s 3ms/step - loss: 23.6402 - mse: 23.6402 - val_loss: 32.1511 - val_mse: 32.1511\n",
      "Epoch 8/10\n",
      "27/27 [==============================] - 0s 7ms/step - loss: 20.3446 - mse: 20.3446 - val_loss: 36.0139 - val_mse: 36.0139\n",
      "Epoch 9/10\n",
      "27/27 [==============================] - 0s 3ms/step - loss: 19.9289 - mse: 19.9289 - val_loss: 30.8528 - val_mse: 30.8528\n",
      "Epoch 10/10\n",
      "27/27 [==============================] - ETA: 0s - loss: 38.7695 - mse: 38.769 - 0s 3ms/step - loss: 24.4743 - mse: 24.4743 - val_loss: 31.4646 - val_mse: 31.4646\n"
     ]
    },
    {
     "data": {
      "text/plain": [
       "<tensorflow.python.keras.callbacks.History at 0x157bf4d0f48>"
      ]
     },
     "execution_count": 44,
     "metadata": {},
     "output_type": "execute_result"
    }
   ],
   "source": [
    "model.fit(X_train, y_train,\n",
    "          epochs=10,\n",
    "          batch_size=15,\n",
    "          validation_data=(X_test, y_test))"
   ]
  },
  {
   "cell_type": "code",
   "execution_count": 45,
   "metadata": {},
   "outputs": [
    {
     "name": "stdout",
     "output_type": "stream",
     "text": [
      "4/4 - 0s - loss: 31.4646 - mse: 31.4646\n",
      "\n",
      "Test accuracy: 31.46456527709961\n"
     ]
    }
   ],
   "source": [
    "test_loss, test_mse = model.evaluate(X_test, y_test, verbose=2)\n",
    "\n",
    "print('\\nTest accuracy:', test_mse)"
   ]
  },
  {
   "cell_type": "code",
   "execution_count": 49,
   "metadata": {},
   "outputs": [],
   "source": [
    "from tensorflow.keras.losses import LogCosh\n",
    "\n",
    "model.compile(optimizer=tf.keras.optimizers.Adam(0.001),\n",
    "              loss= LogCosh(),\n",
    "              metrics=['mse'])"
   ]
  },
  {
   "cell_type": "code",
   "execution_count": 50,
   "metadata": {},
   "outputs": [
    {
     "name": "stdout",
     "output_type": "stream",
     "text": [
      "Epoch 1/10\n",
      "27/27 [==============================] - 1s 9ms/step - loss: 25.3581 - mse: 1067.5129 - val_loss: 4.2223 - val_mse: 43.9287\n",
      "Epoch 2/10\n",
      "27/27 [==============================] - 0s 3ms/step - loss: 3.8787 - mse: 33.8817 - val_loss: 3.9638 - val_mse: 41.7992\n",
      "Epoch 3/10\n",
      "27/27 [==============================] - 0s 3ms/step - loss: 3.5533 - mse: 41.3068 - val_loss: 3.4589 - val_mse: 42.8071\n",
      "Epoch 4/10\n",
      "27/27 [==============================] - 0s 3ms/step - loss: 2.9575 - mse: 28.2568 - val_loss: 3.4132 - val_mse: 37.8527\n",
      "Epoch 5/10\n",
      "27/27 [==============================] - 0s 3ms/step - loss: 3.0029 - mse: 31.2319 - val_loss: 3.2004 - val_mse: 37.9048\n",
      "Epoch 6/10\n",
      "27/27 [==============================] - 0s 3ms/step - loss: 2.7868 - mse: 25.2292 - val_loss: 3.3145 - val_mse: 36.5401\n",
      "Epoch 7/10\n",
      "27/27 [==============================] - 0s 3ms/step - loss: 2.6679 - mse: 25.8590 - val_loss: 3.1968 - val_mse: 37.5225\n",
      "Epoch 8/10\n",
      "27/27 [==============================] - 0s 3ms/step - loss: 2.7089 - mse: 24.4042 - val_loss: 3.1782 - val_mse: 38.1605\n",
      "Epoch 9/10\n",
      "27/27 [==============================] - 0s 3ms/step - loss: 2.7761 - mse: 25.9469 - val_loss: 3.1989 - val_mse: 34.5318\n",
      "Epoch 10/10\n",
      "27/27 [==============================] - 0s 3ms/step - loss: 2.2631 - mse: 19.2355 - val_loss: 3.1504 - val_mse: 34.7029\n"
     ]
    },
    {
     "data": {
      "text/plain": [
       "<tensorflow.python.keras.callbacks.History at 0x157c06be308>"
      ]
     },
     "execution_count": 50,
     "metadata": {},
     "output_type": "execute_result"
    }
   ],
   "source": [
    "model.fit(X_train, y_train,\n",
    "          epochs=10,\n",
    "          batch_size=15,\n",
    "          validation_data=(X_test, y_test))"
   ]
  },
  {
   "cell_type": "code",
   "execution_count": 51,
   "metadata": {},
   "outputs": [
    {
     "name": "stdout",
     "output_type": "stream",
     "text": [
      "4/4 - 0s - loss: 3.1504 - mse: 34.7029\n",
      "\n",
      "Test accuracy: 34.702857971191406\n"
     ]
    }
   ],
   "source": [
    "test_loss, test_mse = model.evaluate(X_test, y_test, verbose=2)\n",
    "\n",
    "print('\\nTest accuracy:', test_mse)"
   ]
  },
  {
   "cell_type": "code",
   "execution_count": 54,
   "metadata": {},
   "outputs": [],
   "source": [
    "from tensorflow.keras.losses import Poisson\n",
    "\n",
    "model.compile(optimizer=tf.keras.optimizers.Adam(0.001),\n",
    "              loss= Poisson(),\n",
    "              metrics=['mse'])"
   ]
  },
  {
   "cell_type": "code",
   "execution_count": 55,
   "metadata": {},
   "outputs": [
    {
     "name": "stdout",
     "output_type": "stream",
     "text": [
      "Epoch 1/10\n",
      "27/27 [==============================] - 1s 9ms/step - loss: -49.9521 - mse: 26.5573 - val_loss: -47.7851 - val_mse: 34.7625\n",
      "Epoch 2/10\n",
      "27/27 [==============================] - 0s 3ms/step - loss: -51.7834 - mse: 29.5790 - val_loss: -47.5082 - val_mse: 44.9036\n",
      "Epoch 3/10\n",
      "27/27 [==============================] - 0s 3ms/step - loss: -48.8709 - mse: 25.1152 - val_loss: -47.7878 - val_mse: 33.1391\n",
      "Epoch 4/10\n",
      "27/27 [==============================] - 0s 3ms/step - loss: -50.1769 - mse: 27.1005 - val_loss: -47.7168 - val_mse: 36.1802\n",
      "Epoch 5/10\n",
      "27/27 [==============================] - 0s 3ms/step - loss: -51.2559 - mse: 23.4357 - val_loss: -47.6976 - val_mse: 38.0023\n",
      "Epoch 6/10\n",
      "27/27 [==============================] - 0s 3ms/step - loss: -46.5575 - mse: 17.8032 - val_loss: -47.8433 - val_mse: 31.0708\n",
      "Epoch 7/10\n",
      "27/27 [==============================] - 0s 3ms/step - loss: -49.1581 - mse: 19.6855 - val_loss: -47.8538 - val_mse: 30.3505\n",
      "Epoch 8/10\n",
      "27/27 [==============================] - 0s 3ms/step - loss: -48.8650 - mse: 23.3494 - val_loss: -47.8286 - val_mse: 31.1885\n",
      "Epoch 9/10\n",
      "27/27 [==============================] - 0s 3ms/step - loss: -50.7507 - mse: 22.7401 - val_loss: -47.8671 - val_mse: 29.8968\n",
      "Epoch 10/10\n",
      "27/27 [==============================] - 0s 3ms/step - loss: -49.5430 - mse: 21.6090 - val_loss: -47.8495 - val_mse: 30.7113\n"
     ]
    },
    {
     "data": {
      "text/plain": [
       "<tensorflow.python.keras.callbacks.History at 0x157c0840608>"
      ]
     },
     "execution_count": 55,
     "metadata": {},
     "output_type": "execute_result"
    }
   ],
   "source": [
    "model.fit(X_train, y_train,\n",
    "          epochs=10,\n",
    "          batch_size=15,\n",
    "          validation_data=(X_test, y_test))"
   ]
  },
  {
   "cell_type": "code",
   "execution_count": 56,
   "metadata": {},
   "outputs": [
    {
     "name": "stdout",
     "output_type": "stream",
     "text": [
      "4/4 - 0s - loss: -4.7849e+01 - mse: 30.7113\n",
      "\n",
      "Test accuracy: 30.71129608154297\n"
     ]
    }
   ],
   "source": [
    "test_loss, test_mse = model.evaluate(X_test, y_test, verbose=2)\n",
    "\n",
    "print('\\nTest accuracy:', test_mse)"
   ]
  },
  {
   "cell_type": "code",
   "execution_count": 60,
   "metadata": {},
   "outputs": [
    {
     "name": "stdout",
     "output_type": "stream",
     "text": [
      "+-----------------------------+-------------------+----------------+\n",
      "| MeanSquaredLogarithmicError | mse на обучении,% | mse на тесте,% |\n",
      "+-----------------------------+-------------------+----------------+\n",
      "|             Adam            |       34.96       |     42.75      |\n",
      "|             SGD             |       47.91       |     68.56      |\n",
      "|           RMSprop           |       37.33       |     45.45      |\n",
      "+-----------------------------+-------------------+----------------+\n"
     ]
    },
    {
     "data": {
      "text/plain": [
       "<prettytable.prettytable.PrettyTable at 0x157c09cfbc8>"
      ]
     },
     "execution_count": 60,
     "metadata": {},
     "output_type": "execute_result"
    }
   ],
   "source": [
    "from prettytable import PrettyTable\n",
    "import pandas as pd\n",
    "\n",
    "data = [['Adam',34.96,42.75], ['SGD',47.91,68.56], ['RMSprop',37.33,45.45]]\n",
    "df = pd.DataFrame(data, columns=['MeanSquaredLogarithmicError', 'mse на обучении,%', 'mse на тесте,%'])\n",
    "\n",
    "def generate_ascii_table(df):\n",
    "    x = PrettyTable()\n",
    "    x.field_names = df.columns.tolist()\n",
    "    for row in df.values:\n",
    "        x.add_row(row)\n",
    "    print(x)\n",
    "    return x\n",
    "\n",
    "generate_ascii_table(df)"
   ]
  },
  {
   "cell_type": "code",
   "execution_count": 62,
   "metadata": {},
   "outputs": [
    {
     "name": "stdout",
     "output_type": "stream",
     "text": [
      "+--------------------------------------+-------------------+----------------+\n",
      "| Функция потерь на оптимизаторе Adams | mse на обучении,% | mse на тесте,% |\n",
      "+--------------------------------------+-------------------+----------------+\n",
      "|     MeanSquaredLogarithmicError      |       34.96       |     42.75      |\n",
      "|          MeanAbsoluteError           |       36.92       |      40.7      |\n",
      "|     MeanAbsolutePercentageError      |       31.82       |     39.17      |\n",
      "|           MeanSquaredError           |       19.93       |     31.46      |\n",
      "|               LogCosh                |       19.24       |      34.7      |\n",
      "|               Poisson                |        21.6       |     30.71      |\n",
      "+--------------------------------------+-------------------+----------------+\n"
     ]
    },
    {
     "data": {
      "text/plain": [
       "<prettytable.prettytable.PrettyTable at 0x15784e1a908>"
      ]
     },
     "execution_count": 62,
     "metadata": {},
     "output_type": "execute_result"
    }
   ],
   "source": [
    "data = [['MeanSquaredLogarithmicError',34.96,42.75], ['MeanAbsoluteError',36.92,40.70], \n",
    "        ['MeanAbsolutePercentageError',31.82,39.17], ['MeanSquaredError',19.93,31.46], ['LogCosh',19.24,34.70],\n",
    "        ['Poisson',21.60,30.71]]\n",
    "df = pd.DataFrame(data, columns=['Функция потерь на оптимизаторе Adams', 'mse на обучении,%', 'mse на тесте,%'])\n",
    "\n",
    "\n",
    "generate_ascii_table(df)"
   ]
  },
  {
   "cell_type": "markdown",
   "metadata": {},
   "source": [
    "##### Вывод: на оптимизаторе Adams функция потерь "
   ]
  }
 ],
 "metadata": {
  "kernelspec": {
   "display_name": "Python 3",
   "language": "python",
   "name": "python3"
  },
  "language_info": {
   "codemirror_mode": {
    "name": "ipython",
    "version": 3
   },
   "file_extension": ".py",
   "mimetype": "text/x-python",
   "name": "python",
   "nbconvert_exporter": "python",
   "pygments_lexer": "ipython3",
   "version": "3.7.4"
  }
 },
 "nbformat": 4,
 "nbformat_minor": 2
}
